{
 "cells": [
  {
   "cell_type": "code",
   "execution_count": 24,
   "id": "3ac88a83",
   "metadata": {},
   "outputs": [],
   "source": [
    "from splinter import Browser\n",
    "import bs4\n",
    "from bs4 import BeautifulSoup as soup\n",
    "from webdriver_manager.chrome import ChromeDriverManager"
   ]
  },
  {
   "cell_type": "code",
   "execution_count": 25,
   "id": "64b97ae3",
   "metadata": {},
   "outputs": [],
   "source": [
    "# Set up Splinter\n",
    "executable_path = {'executable_path': ChromeDriverManager().install()}\n"
   ]
  },
  {
   "cell_type": "code",
   "execution_count": 26,
   "id": "05347605",
   "metadata": {},
   "outputs": [],
   "source": [
    "browser = Browser('chrome', **executable_path, headless=False)\n"
   ]
  },
  {
   "cell_type": "code",
   "execution_count": null,
   "id": "2e40cef5",
   "metadata": {},
   "outputs": [],
   "source": [
    "# Visit the Quotes to Scrape site\n",
    "\n",
    "url = 'http://quotes.toscrape.com/'\n",
    "browser.visit(url)"
   ]
  },
  {
   "cell_type": "code",
   "execution_count": null,
   "id": "df5b1400",
   "metadata": {},
   "outputs": [],
   "source": [
    "# Parse the HTML \n",
    "\n",
    "html = browser.html\n",
    "\n",
    "html_soup = soup = soup(html, 'html.parser')\n"
   ]
  },
  {
   "cell_type": "code",
   "execution_count": null,
   "id": "1b0211f4",
   "metadata": {},
   "outputs": [],
   "source": [
    "# Scrape the Title\n",
    "\n",
    "title = html_soup.find('h2').text\n",
    "\n",
    "title"
   ]
  },
  {
   "cell_type": "code",
   "execution_count": null,
   "id": "8bca86b6",
   "metadata": {},
   "outputs": [],
   "source": [
    "# Scrape the top ten tags\n",
    "\n",
    "tag_box = html_soup.find('div', class_='tags-box')\n",
    "\n",
    "# tag_box\n",
    "\n",
    "tags = tag_box.find_all('a', class_='tag')\n",
    "\n",
    "for tag in tags:\n",
    "    word = tag.text\n",
    "    print(word)\n",
    "    \n",
    "    "
   ]
  },
  {
   "cell_type": "code",
   "execution_count": null,
   "id": "2c0552ac",
   "metadata": {},
   "outputs": [],
   "source": [
    "url = 'http://quotes.toscrape.com/'\n",
    "browser.visit(url)\n",
    "\n",
    "for x in range(1, 6):\n",
    "   html = browser.html\n",
    "   quote_soup = soup(html, 'html.parser')\n",
    "   quotes = quote_soup.find_all('span', class_='text')\n",
    "   for quote in quotes:\n",
    "      print('page:', x, '----------')\n",
    "      print(quote.text)\n",
    "   browser.links.find_by_partial_text('Next').click()\n",
    "    "
   ]
  },
  {
   "cell_type": "code",
   "execution_count": 40,
   "id": "afe8b7d6",
   "metadata": {},
   "outputs": [],
   "source": [
    "soup?"
   ]
  },
  {
   "cell_type": "code",
   "execution_count": 38,
   "id": "e8c376d4",
   "metadata": {},
   "outputs": [
    {
     "data": {
      "text/plain": [
       "type"
      ]
     },
     "execution_count": 38,
     "metadata": {},
     "output_type": "execute_result"
    }
   ],
   "source": [
    "type(soup)"
   ]
  },
  {
   "cell_type": "code",
   "execution_count": 41,
   "id": "d9f2cab1",
   "metadata": {},
   "outputs": [],
   "source": [
    "bs4.element.Tag.find?\n"
   ]
  },
  {
   "cell_type": "code",
   "execution_count": null,
   "id": "52d0acc7",
   "metadata": {},
   "outputs": [],
   "source": [
    "bs4.__version__"
   ]
  },
  {
   "cell_type": "code",
   "execution_count": 7,
   "id": "0137a422",
   "metadata": {},
   "outputs": [],
   "source": [
    "url = 'http://books.toscrape.com/'\n",
    "browser.visit(url)"
   ]
  },
  {
   "cell_type": "code",
   "execution_count": 36,
   "id": "382f6fc0",
   "metadata": {},
   "outputs": [
    {
     "name": "stdout",
     "output_type": "stream",
     "text": [
      "None\n",
      "None\n",
      "None\n",
      "None\n",
      "None\n",
      "None\n",
      "None\n",
      "None\n",
      "None\n",
      "None\n",
      "None\n",
      "None\n",
      "None\n",
      "None\n",
      "None\n",
      "None\n",
      "None\n",
      "None\n",
      "None\n",
      "None\n",
      "None\n",
      "None\n",
      "None\n",
      "None\n",
      "None\n",
      "None\n",
      "None\n",
      "None\n",
      "None\n",
      "None\n",
      "None\n",
      "None\n",
      "None\n",
      "None\n",
      "None\n",
      "None\n",
      "None\n",
      "None\n",
      "None\n",
      "None\n",
      "None\n"
     ]
    }
   ],
   "source": [
    "# scrape book url an exercise from skill drill module 10.3.2\n",
    "\n",
    "url = 'http://books.toscrape.com/'\n",
    "browser.visit(url)\n",
    "\n",
    "html = browser.html\n",
    "book_soup = soup(html, 'html.parser')\n",
    "#print(book_soup.prettify())\n",
    "                \n",
    "books= book_soup.find('ol', class_= 'row')\n",
    "\n",
    "for book in books:\n",
    "    \n",
    "    title =books.find('title')\n",
    "    print(title)  \n",
    "\n",
    " \n",
    "    "
   ]
  },
  {
   "cell_type": "code",
   "execution_count": 23,
   "id": "3a4bcb27",
   "metadata": {},
   "outputs": [
    {
     "name": "stdout",
     "output_type": "stream",
     "text": [
      "A Light in the ...\n",
      "A Light in the ...\n",
      "A Light in the ...\n",
      "A Light in the ...\n",
      "A Light in the ...\n",
      "A Light in the ...\n",
      "A Light in the ...\n",
      "A Light in the ...\n",
      "A Light in the ...\n",
      "A Light in the ...\n",
      "A Light in the ...\n",
      "A Light in the ...\n",
      "A Light in the ...\n",
      "A Light in the ...\n",
      "A Light in the ...\n",
      "A Light in the ...\n",
      "A Light in the ...\n",
      "A Light in the ...\n",
      "A Light in the ...\n",
      "A Light in the ...\n",
      "A Light in the ...\n",
      "A Light in the ...\n",
      "A Light in the ...\n",
      "A Light in the ...\n",
      "A Light in the ...\n",
      "A Light in the ...\n",
      "A Light in the ...\n",
      "A Light in the ...\n",
      "A Light in the ...\n",
      "A Light in the ...\n",
      "A Light in the ...\n",
      "A Light in the ...\n",
      "A Light in the ...\n",
      "A Light in the ...\n",
      "A Light in the ...\n",
      "A Light in the ...\n",
      "A Light in the ...\n",
      "A Light in the ...\n",
      "A Light in the ...\n",
      "A Light in the ...\n",
      "A Light in the ...\n"
     ]
    }
   ],
   "source": [
    "for book in books:\n",
    "    \n",
    "    title =books.find('h3').get_text()\n",
    "    print(title)  "
   ]
  },
  {
   "cell_type": "code",
   "execution_count": null,
   "id": "964ad397",
   "metadata": {},
   "outputs": [],
   "source": []
  }
 ],
 "metadata": {
  "kernelspec": {
   "display_name": "Python 3 (ipykernel)",
   "language": "python",
   "name": "python3"
  },
  "language_info": {
   "codemirror_mode": {
    "name": "ipython",
    "version": 3
   },
   "file_extension": ".py",
   "mimetype": "text/x-python",
   "name": "python",
   "nbconvert_exporter": "python",
   "pygments_lexer": "ipython3",
   "version": "3.9.12"
  }
 },
 "nbformat": 4,
 "nbformat_minor": 5
}
